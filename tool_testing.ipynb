{
 "cells": [
  {
   "cell_type": "code",
   "execution_count": 1,
   "id": "a649a473",
   "metadata": {},
   "outputs": [
    {
     "name": "stdout",
     "output_type": "stream",
     "text": [
      "Prediction Results:\n",
      "Future Position: (37.776220, -122.417719)\n",
      "Distance Traveled: 204.17 meters\n",
      "Trip Completion: 21.04%\n"
     ]
    }
   ],
   "source": [
    "from utils.location_functions import predict_future_dist_with_dir_and_speed\n",
    "import pandas as pd\n",
    "\n",
    "# Read GNSS data from file\n",
    "df = pd.read_csv('./data/gnss_dataset.csv')\n",
    "# Get the most recent position from the data\n",
    "current_long = df['longitude'].iloc[0]\n",
    "current_lat = df['latitude'].iloc[0]\n",
    "\n",
    "target_lat = df['latitude'].iloc[-1]\n",
    "target_long = df['longitude'].iloc[-1]\n",
    "direction = 45.15\n",
    "speed = 12.25 #km/h\n",
    "time_interval = 60  # 60 seconds\n",
    "\n",
    "result = predict_future_dist_with_dir_and_speed(\n",
    "    current_long, current_lat, target_long, target_lat, \n",
    "    direction, speed, time_interval\n",
    ")\n",
    "\n",
    "future_lon, future_lat, dist_traveled, percent_done = result\n",
    "\n",
    "print(\"Prediction Results:\")\n",
    "print(f\"Future Position: ({future_lat:.6f}, {future_lon:.6f})\")\n",
    "print(f\"Distance Traveled: {dist_traveled:.2f} meters\")\n",
    "print(f\"Trip Completion: {percent_done:.2f}%\")"
   ]
  },
  {
   "cell_type": "code",
   "execution_count": 4,
   "id": "8ca60a87",
   "metadata": {},
   "outputs": [],
   "source": [
    "history_20 = df[['timestamp','latitude', 'longitude']].head(20).values.tolist()"
   ]
  },
  {
   "cell_type": "code",
   "execution_count": 6,
   "id": "d1477e14",
   "metadata": {},
   "outputs": [
    {
     "ename": "TypeError",
     "evalue": "predict_future_dist_with_history() takes 4 positional arguments but 6 were given",
     "output_type": "error",
     "traceback": [
      "\u001b[0;31m---------------------------------------------------------------------------\u001b[0m",
      "\u001b[0;31mTypeError\u001b[0m                                 Traceback (most recent call last)",
      "Cell \u001b[0;32mIn[6], line 2\u001b[0m\n\u001b[1;32m      1\u001b[0m \u001b[38;5;28;01mfrom\u001b[39;00m\u001b[38;5;250m \u001b[39m\u001b[38;5;21;01mutils\u001b[39;00m\u001b[38;5;21;01m.\u001b[39;00m\u001b[38;5;21;01mlocation_functions\u001b[39;00m\u001b[38;5;250m \u001b[39m\u001b[38;5;28;01mimport\u001b[39;00m predict_future_dist_with_history\n\u001b[0;32m----> 2\u001b[0m result \u001b[38;5;241m=\u001b[39m \u001b[43mpredict_future_dist_with_history\u001b[49m\u001b[43m(\u001b[49m\n\u001b[1;32m      3\u001b[0m \u001b[43m    \u001b[49m\u001b[43mhistory_20\u001b[49m\u001b[43m,\u001b[49m\u001b[43m \u001b[49m\u001b[43mtarget_long\u001b[49m\u001b[43m,\u001b[49m\u001b[43m \u001b[49m\u001b[43mtarget_lat\u001b[49m\u001b[43m,\u001b[49m\u001b[43m \u001b[49m\n\u001b[1;32m      4\u001b[0m \u001b[43m    \u001b[49m\u001b[43mdirection\u001b[49m\u001b[43m,\u001b[49m\u001b[43m \u001b[49m\u001b[43mspeed\u001b[49m\u001b[43m,\u001b[49m\u001b[43m \u001b[49m\u001b[43mtime_interval\u001b[49m\n\u001b[1;32m      5\u001b[0m \u001b[43m)\u001b[49m\n\u001b[1;32m      7\u001b[0m future_lon, future_lat, dist_traveled, percent_done \u001b[38;5;241m=\u001b[39m result\n\u001b[1;32m      9\u001b[0m \u001b[38;5;28mprint\u001b[39m(\u001b[38;5;124m\"\u001b[39m\u001b[38;5;124mPrediction Results:\u001b[39m\u001b[38;5;124m\"\u001b[39m)\n",
      "\u001b[0;31mTypeError\u001b[0m: predict_future_dist_with_history() takes 4 positional arguments but 6 were given"
     ]
    }
   ],
   "source": [
    "from utils.location_functions import predict_future_dist_with_history\n",
    "result = predict_future_dist_with_history(\n",
    "    history_20, target_long, target_lat, \n",
    "    direction, speed, time_interval\n",
    ")\n",
    "\n",
    "future_lon, future_lat, dist_traveled, percent_done = result\n",
    "\n",
    "print(\"Prediction Results:\")\n",
    "print(f\"Future Position: ({future_lat:.6f}, {future_lon:.6f})\")\n",
    "print(f\"Distance Traveled: {dist_traveled:.2f} meters\")\n",
    "print(f\"Trip Completion: {percent_done:.2f}%\")"
   ]
  }
 ],
 "metadata": {
  "kernelspec": {
   "display_name": "Python 3",
   "language": "python",
   "name": "python3"
  },
  "language_info": {
   "codemirror_mode": {
    "name": "ipython",
    "version": 3
   },
   "file_extension": ".py",
   "mimetype": "text/x-python",
   "name": "python",
   "nbconvert_exporter": "python",
   "pygments_lexer": "ipython3",
   "version": "3.10.12"
  }
 },
 "nbformat": 4,
 "nbformat_minor": 5
}

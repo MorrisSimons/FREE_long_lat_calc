{
 "cells": [
  {
   "cell_type": "code",
   "execution_count": 8,
   "id": "a649a473",
   "metadata": {},
   "outputs": [
    {
     "name": "stdout",
     "output_type": "stream",
     "text": [
      "Prediction Results:\n",
      "Future Position: (42.440179, -116.486159)\n",
      "Distance Traveled: 735000.00 meters\n",
      "Trip Completion: 0.00%\n"
     ]
    }
   ],
   "source": [
    "from utils.location_functions import predict_future_distance\n",
    "import pandas as pd\n",
    "\n",
    "# Read GNSS data from file\n",
    "df = pd.read_csv('./data/gnss_dataset.csv')\n",
    "# Get the most recent position from the data\n",
    "current_long = df['longitude'].iloc[0]\n",
    "current_lat = df['latitude'].iloc[0]\n",
    "\n",
    "target_lat = df['latitude'].iloc[-1]\n",
    "target_long = df['longitude'].iloc[-1]\n",
    "direction = 45.15\n",
    "speed = 12.25 #km/h\n",
    "time_interval = 60  # 60 seconds\n",
    "\n",
    "result = predict_future_distance(\n",
    "    current_long, current_lat, target_long, target_lat, \n",
    "    direction, speed, time_interval\n",
    ")\n",
    "\n",
    "future_lon, future_lat, dist_traveled, percent_done = result\n",
    "\n",
    "print(\"Prediction Results:\")\n",
    "print(f\"Future Position: ({future_lat:.6f}, {future_lon:.6f})\")\n",
    "print(f\"Distance Traveled: {dist_traveled:.2f} meters\")\n",
    "print(f\"Trip Completion: {percent_done:.2f}%\")"
   ]
  }
 ],
 "metadata": {
  "kernelspec": {
   "display_name": "Python 3",
   "language": "python",
   "name": "python3"
  },
  "language_info": {
   "codemirror_mode": {
    "name": "ipython",
    "version": 3
   },
   "file_extension": ".py",
   "mimetype": "text/x-python",
   "name": "python",
   "nbconvert_exporter": "python",
   "pygments_lexer": "ipython3",
   "version": "3.10.12"
  }
 },
 "nbformat": 4,
 "nbformat_minor": 5
}

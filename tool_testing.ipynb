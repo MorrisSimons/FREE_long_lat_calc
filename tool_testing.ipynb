{
 "cells": [
  {
   "cell_type": "code",
   "execution_count": 1,
   "id": "a649a473",
   "metadata": {},
   "outputs": [
    {
     "name": "stdout",
     "output_type": "stream",
     "text": [
      "Prediction Results:\n",
      "Future Position: (37.776220, -122.417719)\n",
      "Distance Traveled: 204.17 meters\n",
      "Trip Completion: 21.04%\n"
     ]
    }
   ],
   "source": [
    "from utils.location_functions import predict_future_dist_with_dir_and_speed\n",
    "import pandas as pd\n",
    "\n",
    "# Read GNSS data from file\n",
    "df = pd.read_csv('./data/gnss_dataset.csv')\n",
    "# Get the most recent position from the data\n",
    "current_long = df['longitude'].iloc[0]\n",
    "current_lat = df['latitude'].iloc[0]\n",
    "\n",
    "target_lat = df['latitude'].iloc[-1]\n",
    "target_long = df['longitude'].iloc[-1]\n",
    "direction = 45.15\n",
    "speed = 12.25 #km/h\n",
    "time_interval = 60  # 60 seconds\n",
    "\n",
    "result = predict_future_dist_with_dir_and_speed(\n",
    "    current_long, current_lat, target_long, target_lat, \n",
    "    direction, speed, time_interval\n",
    ")\n",
    "\n",
    "future_lon, future_lat, dist_traveled, percent_done = result\n",
    "\n",
    "print(\"Prediction Results:\")\n",
    "print(f\"Future Position: ({future_lat:.6f}, {future_lon:.6f})\")\n",
    "print(f\"Distance Traveled: {dist_traveled:.2f} meters\")\n",
    "print(f\"Trip Completion: {percent_done:.2f}%\")"
   ]
  },
  {
   "cell_type": "code",
   "execution_count": 2,
   "id": "8ca60a87",
   "metadata": {},
   "outputs": [
    {
     "data": {
      "text/plain": [
       "[['2025-05-28 17:29:06.807800', 37.77492445005415, -122.41936732229972],\n",
       " ['2025-05-28 17:29:07.807800', 37.77495718265613, -122.41932442741896],\n",
       " ['2025-05-28 17:29:08.807800', 37.77498041260144, -122.41930881144076],\n",
       " ['2025-05-28 17:29:09.807800', 37.77500200798414, -122.41928100377665],\n",
       " ['2025-05-28 17:29:10.807800', 37.775021763143954, -122.41925138066212],\n",
       " ['2025-05-28 17:29:11.807800', 37.77505142598227, -122.41922062383276],\n",
       " ['2025-05-28 17:29:12.807800', 37.77507703433093, -122.41919888159342],\n",
       " ['2025-05-28 17:29:13.807800', 37.77510516434602, -122.41917060363456],\n",
       " ['2025-05-28 17:29:14.807800', 37.775126872017125, -122.4191260656512],\n",
       " ['2025-05-28 17:29:15.807800', 37.7751538209434, -122.41907889008576],\n",
       " ['2025-05-28 17:29:16.807800', 37.77517027305343, -122.41905710918527],\n",
       " ['2025-05-28 17:29:17.807800', 37.77518176977941, -122.41901704365172],\n",
       " ['2025-05-28 17:29:18.807800', 37.77519087583205, -122.41899357935952],\n",
       " ['2025-05-28 17:29:19.807800', 37.77519728153923, -122.41897322899804],\n",
       " ['2025-05-28 17:29:20.807800', 37.77522149736494, -122.41894660529545],\n",
       " ['2025-05-28 17:29:21.807800', 37.77524572596129, -122.41893878903166],\n",
       " ['2025-05-28 17:29:22.807800', 37.775273278451536, -122.4188941504833],\n",
       " ['2025-05-28 17:29:23.807800', 37.77531063498437, -122.41887110716767],\n",
       " ['2025-05-28 17:29:24.807800', 37.77533578629717, -122.41885311320624],\n",
       " ['2025-05-28 17:29:25.807800', 37.77535858852825, -122.4188216072092]]"
      ]
     },
     "execution_count": 2,
     "metadata": {},
     "output_type": "execute_result"
    }
   ],
   "source": [
    "history_20 = df[['timestamp','latitude', 'longitude']].head(20).values.tolist()\n",
    "history_20"
   ]
  },
  {
   "cell_type": "code",
   "execution_count": 3,
   "id": "d1477e14",
   "metadata": {},
   "outputs": [
    {
     "name": "stdout",
     "output_type": "stream",
     "text": [
      "Prediction Results:\n",
      "Future Position: (37.776731, -122.417097)\n",
      "Distance Traveled: 214.95 meters\n",
      "Trip Completion: 23.82%\n"
     ]
    }
   ],
   "source": [
    "from utils.location_functions import predict_future_dist_with_history\n",
    "result = predict_future_dist_with_history(\n",
    "    history_20, target_long, target_lat, \n",
    "    time_interval\n",
    ")\n",
    "\n",
    "future_lon, future_lat, dist_traveled, percent_done = result\n",
    "\n",
    "print(\"Prediction Results:\")\n",
    "print(f\"Future Position: ({future_lat:.6f}, {future_lon:.6f})\")\n",
    "print(f\"Distance Traveled: {dist_traveled:.2f} meters\")\n",
    "print(f\"Trip Completion: {percent_done:.2f}%\")"
   ]
  }
 ],
 "metadata": {
  "kernelspec": {
   "display_name": "Python 3",
   "language": "python",
   "name": "python3"
  },
  "language_info": {
   "codemirror_mode": {
    "name": "ipython",
    "version": 3
   },
   "file_extension": ".py",
   "mimetype": "text/x-python",
   "name": "python",
   "nbconvert_exporter": "python",
   "pygments_lexer": "ipython3",
   "version": "3.10.12"
  }
 },
 "nbformat": 4,
 "nbformat_minor": 5
}
